{
  "nbformat": 4,
  "nbformat_minor": 0,
  "metadata": {
    "colab": {
      "provenance": [],
      "gpuType": "T4"
    },
    "kernelspec": {
      "name": "python3",
      "display_name": "Python 3"
    },
    "language_info": {
      "name": "python"
    },
    "accelerator": "GPU"
  },
  "cells": [
    {
      "cell_type": "code",
      "execution_count": null,
      "metadata": {
        "colab": {
          "base_uri": "https://localhost:8080/"
        },
        "id": "8y-JVQM9dHf2",
        "outputId": "c8ff4b6e-096a-4f0d-bc21-8068556d59ab"
      },
      "outputs": [
        {
          "output_type": "stream",
          "name": "stdout",
          "text": [
            "Mounted at /content/drive\n"
          ]
        }
      ],
      "source": [
        "from google.colab import drive\n",
        "drive.mount('/content/drive')\n"
      ]
    },
    {
      "cell_type": "code",
      "source": [
        "import pandas as pd\n",
        "\n",
        "train_df = pd.read_csv('/content/drive/MyDrive/UCI_HAR_DATASET/train/X_train.txt', delim_whitespace=True, header=None)\n",
        "\n",
        "test_df = pd.read_csv('/content/drive/MyDrive/UCI_HAR_DATASET/test/X_test.txt', delim_whitespace=True, header=None)\n",
        "\n",
        "data = pd.concat([train_df, test_df], axis=0)\n"
      ],
      "metadata": {
        "id": "hcHHy9RAdTlU"
      },
      "execution_count": null,
      "outputs": []
    },
    {
      "cell_type": "code",
      "source": [
        "from sklearn.preprocessing import StandardScaler\n",
        "scaler = StandardScaler()\n",
        "scaled_data = scaler.fit_transform(data)\n"
      ],
      "metadata": {
        "id": "rf68TitbdlYu"
      },
      "execution_count": null,
      "outputs": []
    },
    {
      "cell_type": "code",
      "source": [
        "from sklearn.cluster import KMeans\n",
        "\n",
        "num_clusters = 6\n",
        "kmeans = KMeans(n_clusters=num_clusters, random_state=42)\n",
        "kmeans.fit(scaled_data)\n",
        "cluster_assignments = kmeans.labels_\n"
      ],
      "metadata": {
        "colab": {
          "base_uri": "https://localhost:8080/"
        },
        "id": "ohtcSnnXdnVM",
        "outputId": "4801cca4-0cb3-40db-9fbe-848968aca51e"
      },
      "execution_count": null,
      "outputs": [
        {
          "output_type": "stream",
          "name": "stderr",
          "text": [
            "/usr/local/lib/python3.10/dist-packages/sklearn/cluster/_kmeans.py:870: FutureWarning: The default value of `n_init` will change from 10 to 'auto' in 1.4. Set the value of `n_init` explicitly to suppress the warning\n",
            "  warnings.warn(\n"
          ]
        }
      ]
    },
    {
      "cell_type": "code",
      "source": [
        "cluster_df = pd.DataFrame(scaled_data)\n",
        "cluster_df['Cluster'] = cluster_assignments\n",
        "\n",
        "cluster_centroids = pd.DataFrame(scaler.inverse_transform(kmeans.cluster_centers_))\n",
        "\n",
        "cluster_names = {}\n",
        "for cluster_idx in range(num_clusters):\n",
        "    cluster_data = cluster_df[cluster_df['Cluster'] == cluster_idx].drop(columns=['Cluster'])\n",
        "    similarity = cluster_data.corr().sum().sum()  # Calculate the sum of correlations\n",
        "    cluster_names[cluster_idx] = f\"Cluster {cluster_idx+1} - Similarity: {similarity:.2f}\"\n",
        "\n",
        "print(\"Cluster Names:\")\n",
        "for cluster_idx, name in cluster_names.items():\n",
        "    print(name)\n"
      ],
      "metadata": {
        "colab": {
          "base_uri": "https://localhost:8080/"
        },
        "id": "DSmnx3HOeX7i",
        "outputId": "6c2a27e7-4fdc-4d7d-df98-58722d2f3ec6"
      },
      "execution_count": null,
      "outputs": [
        {
          "output_type": "stream",
          "name": "stdout",
          "text": [
            "Cluster Names:\n",
            "Cluster 1 - Similarity: 54168.89\n",
            "Cluster 2 - Similarity: 26609.83\n",
            "Cluster 3 - Similarity: 62064.38\n",
            "Cluster 4 - Similarity: 15297.14\n",
            "Cluster 5 - Similarity: 26715.17\n",
            "Cluster 6 - Similarity: 67687.91\n"
          ]
        }
      ]
    },
    {
      "cell_type": "code",
      "source": [
        "import numpy as np\n",
        "import pandas as pd\n",
        "from sklearn.cluster import KMeans\n",
        "from sklearn.preprocessing import StandardScaler\n",
        "from sklearn.model_selection import train_test_split\n",
        "from sklearn.ensemble import RandomForestClassifier\n",
        "from sklearn.metrics import accuracy_score\n",
        "\n",
        "X_train = pd.read_csv(\"/content/drive/MyDrive/UCI_HAR_DATASET/train/X_train.txt\", delim_whitespace=True, header=None)\n",
        "y_train = pd.read_csv(\"/content/drive/MyDrive/UCI_HAR_DATASET/train/y_train.txt\", header=None)\n",
        "X_test = pd.read_csv(\"/content/drive/MyDrive/UCI_HAR_DATASET/test/X_test.txt\", delim_whitespace=True, header=None)\n",
        "y_test = pd.read_csv(\"/content/drive/MyDrive/UCI_HAR_DATASET/test/y_test.txt\", header=None)\n"
      ],
      "metadata": {
        "id": "ON55BH5Uep1A"
      },
      "execution_count": null,
      "outputs": []
    },
    {
      "cell_type": "code",
      "source": [
        "from sklearn.preprocessing import StandardScaler\n",
        "from sklearn.cluster import KMeans\n",
        "\n",
        "scaler = StandardScaler()\n",
        "X_train_scaled = scaler.fit_transform(X_train)\n",
        "X_test_scaled = scaler.transform(X_test)\n",
        "\n",
        "# K-means clustering for activity recognition\n",
        "n_activity_clusters = 6\n",
        "activity_kmeans = KMeans(n_clusters=n_activity_clusters, random_state=42)\n",
        "X_train_activity_clusters = activity_kmeans.fit_predict(X_train_scaled)\n",
        "X_test_activity_clusters = activity_kmeans.predict(X_test_scaled)\n",
        "\n",
        "activity_labels = {\n",
        "    0: \"WALKING\",\n",
        "    1: \"WALKING_UPSTAIRS\",\n",
        "    2: \"WALKING_DOWNSTAIRS\",\n",
        "    3: \"SITTING\",\n",
        "    4: \"STANDING\",\n",
        "    5: \"LAYING\"\n",
        "}\n",
        "\n",
        "y_test_activity = pd.Series(X_test_activity_clusters).map(activity_labels)\n",
        "\n",
        "print(\"Predicted Activity Labels:\")\n",
        "print(y_test_activity)\n",
        "\n"
      ],
      "metadata": {
        "colab": {
          "base_uri": "https://localhost:8080/"
        },
        "id": "pj_tJ52qf3WO",
        "outputId": "e9d87362-73aa-432f-d273-985a0e8f3e61"
      },
      "execution_count": null,
      "outputs": [
        {
          "output_type": "stream",
          "name": "stderr",
          "text": [
            "/usr/local/lib/python3.10/dist-packages/sklearn/cluster/_kmeans.py:870: FutureWarning: The default value of `n_init` will change from 10 to 'auto' in 1.4. Set the value of `n_init` explicitly to suppress the warning\n",
            "  warnings.warn(\n"
          ]
        },
        {
          "output_type": "stream",
          "name": "stdout",
          "text": [
            "Predicted Activity Labels:\n",
            "0                 LAYING\n",
            "1                SITTING\n",
            "2                SITTING\n",
            "3                SITTING\n",
            "4                SITTING\n",
            "              ...       \n",
            "2942    WALKING_UPSTAIRS\n",
            "2943    WALKING_UPSTAIRS\n",
            "2944    WALKING_UPSTAIRS\n",
            "2945    WALKING_UPSTAIRS\n",
            "2946    WALKING_UPSTAIRS\n",
            "Length: 2947, dtype: object\n"
          ]
        }
      ]
    },
    {
      "cell_type": "code",
      "source": [],
      "metadata": {
        "id": "z1UNWtoED7QE"
      },
      "execution_count": null,
      "outputs": []
    },
    {
      "cell_type": "markdown",
      "source": [
        "#NEW ACTIVITY"
      ],
      "metadata": {
        "id": "TT8wt0bCE7Ds"
      }
    },
    {
      "cell_type": "code",
      "source": [
        "import numpy as np\n",
        "import pandas as pd\n",
        "from sklearn.cluster import KMeans\n",
        "from sklearn.preprocessing import StandardScaler\n",
        "from sklearn.ensemble import RandomForestClassifier\n",
        "from sklearn.metrics import accuracy_score\n",
        "\n",
        "X_train = pd.read_csv(\"/content/drive/MyDrive/UCI_HAR_DATASET/train/X_train.txt\", delim_whitespace=True, header=None)\n",
        "y_train = pd.read_csv(\"/content/drive/MyDrive/UCI_HAR_DATASET/train/y_train.txt\", header=None)\n",
        "X_test = pd.read_csv(\"/content/drive/MyDrive/UCI_HAR_DATASET/test/X_test.txt\", delim_whitespace=True, header=None)\n",
        "y_test = pd.read_csv(\"/content/drive/MyDrive/UCI_HAR_DATASET/test/y_test.txt\", header=None)\n",
        "\n"
      ],
      "metadata": {
        "id": "1e8SozvkE9T7"
      },
      "execution_count": null,
      "outputs": []
    },
    {
      "cell_type": "code",
      "source": [
        "scaler = StandardScaler()\n",
        "X_train_scaled = scaler.fit_transform(X_train)\n",
        "X_test_scaled = scaler.transform(X_test)"
      ],
      "metadata": {
        "id": "-Q-fv7cqE92T"
      },
      "execution_count": null,
      "outputs": []
    },
    {
      "cell_type": "code",
      "source": [
        "num_clusters = 6\n",
        "\n",
        "kmeans = KMeans(n_clusters=num_clusters, random_state=42)\n",
        "kmeans.fit(X_train_scaled)\n",
        "train_cluster_assignments = kmeans.labels_\n",
        "test_cluster_assignments = kmeans.predict(X_test_scaled)\n",
        "cluster_centroids = pd.DataFrame(scaler.inverse_transform(kmeans.cluster_centers_))\n"
      ],
      "metadata": {
        "colab": {
          "base_uri": "https://localhost:8080/"
        },
        "id": "WzIyvekSE_lk",
        "outputId": "631d8434-29e5-465d-dbf3-9180407e65c0"
      },
      "execution_count": null,
      "outputs": [
        {
          "output_type": "stream",
          "name": "stderr",
          "text": [
            "/usr/local/lib/python3.10/dist-packages/sklearn/cluster/_kmeans.py:870: FutureWarning: The default value of `n_init` will change from 10 to 'auto' in 1.4. Set the value of `n_init` explicitly to suppress the warning\n",
            "  warnings.warn(\n"
          ]
        }
      ]
    },
    {
      "cell_type": "code",
      "source": [
        "cluster_names = {}\n",
        "for cluster_idx in range(num_clusters):\n",
        "    cluster_data = X_train_scaled[train_cluster_assignments == cluster_idx]\n",
        "    similarity = np.sum(np.corrcoef(cluster_data, rowvar=False))\n",
        "    cluster_names[cluster_idx] = f\"Cluster {cluster_idx+1} - Similarity: {similarity:.2f}\"\n",
        "\n",
        "print(\"Cluster Names:\")\n",
        "for cluster_idx, name in cluster_names.items():\n",
        "    print(name)\n"
      ],
      "metadata": {
        "colab": {
          "base_uri": "https://localhost:8080/"
        },
        "id": "v9XhcSIJFDZb",
        "outputId": "4e3d5e74-24cc-4e4b-d4a5-276f853e8771"
      },
      "execution_count": null,
      "outputs": [
        {
          "output_type": "stream",
          "name": "stdout",
          "text": [
            "Cluster Names:\n",
            "Cluster 1 - Similarity: 63405.85\n",
            "Cluster 2 - Similarity: 27891.63\n",
            "Cluster 3 - Similarity: 28707.71\n",
            "Cluster 4 - Similarity: 70068.61\n",
            "Cluster 5 - Similarity: 15040.24\n",
            "Cluster 6 - Similarity: 54699.41\n"
          ]
        }
      ]
    },
    {
      "cell_type": "code",
      "source": [
        "context_labels = {\n",
        "    0: \"Yawning and stretching\",\n",
        "    1: \"Rubbing eyes and yawning\",\n",
        "    2: \"Washing face and splashing water\",\n",
        "    3: \"Moving hands and brushing hair\",\n",
        "    4: \"Opening mouth and sipping coffee\",\n",
        "    5: \"Laying on bed and snoring\",\n",
        "\n",
        "}\n",
        "\n",
        "# Map activity\n",
        "activity_labels = {\n",
        "    0: \"Waking up\",\n",
        "    1: \"sleepiness\",\n",
        "    2: \"refreshing\",\n",
        "    3: \"Dressing\",\n",
        "    4: \"eating\",\n",
        "    5: \"Sleeping\"\n",
        "\n",
        "}\n"
      ],
      "metadata": {
        "id": "chLjhDmJFFlC"
      },
      "execution_count": null,
      "outputs": []
    },
    {
      "cell_type": "code",
      "source": [
        "def predict_activity_from_context(context):\n",
        "    context_index = [key for key, value in context_labels.items() if value == context][0]\n",
        "    context_instances_indices = np.where(train_cluster_assignments == context_index)[0]\n",
        "    context_representation = X_train_scaled[context_instances_indices].mean(axis=0)\n",
        "    predicted_cluster = kmeans.predict([context_representation])[0]\n",
        "    predicted_activity = activity_labels[predicted_cluster]\n",
        "\n",
        "    return predicted_activity"
      ],
      "metadata": {
        "id": "g5cEsjQxFHmZ"
      },
      "execution_count": null,
      "outputs": []
    },
    {
      "cell_type": "code",
      "source": [
        "given_context = \"Washing face and splashing water\"\n",
        "predicted_activity= predict_activity_from_context(given_context)\n",
        "print(f\"Predicted Activity based on the context '{given_context}': {predicted_activity}\")"
      ],
      "metadata": {
        "colab": {
          "base_uri": "https://localhost:8080/"
        },
        "id": "0dQG-DwJFJiM",
        "outputId": "11ec685e-3cef-4227-a843-38a470ae4ff4"
      },
      "execution_count": null,
      "outputs": [
        {
          "output_type": "stream",
          "name": "stdout",
          "text": [
            "Predicted Activity based on the context 'Washing face and splashing water': refreshing\n"
          ]
        }
      ]
    },
    {
      "cell_type": "code",
      "source": [
        "\n"
      ],
      "metadata": {
        "id": "KC_aPeuiGOaD"
      },
      "execution_count": null,
      "outputs": []
    }
  ]
}