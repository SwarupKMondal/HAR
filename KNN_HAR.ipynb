{
  "nbformat": 4,
  "nbformat_minor": 0,
  "metadata": {
    "colab": {
      "provenance": []
    },
    "kernelspec": {
      "name": "python3",
      "display_name": "Python 3"
    },
    "language_info": {
      "name": "python"
    }
  },
  "cells": [
    {
      "cell_type": "code",
      "execution_count": 1,
      "metadata": {
        "colab": {
          "base_uri": "https://localhost:8080/"
        },
        "id": "_f6eHnZN_CKC",
        "outputId": "916ea805-5c86-4b98-beca-1f750c1ac756"
      },
      "outputs": [
        {
          "output_type": "stream",
          "name": "stdout",
          "text": [
            "Mounted at /content/drive\n"
          ]
        }
      ],
      "source": [
        "from google.colab import drive\n",
        "drive.mount('/content/drive')"
      ]
    },
    {
      "cell_type": "code",
      "source": [
        "import pandas as pd\n",
        "import numpy as np\n",
        "import seaborn as sns\n",
        "import matplotlib.pyplot as plt"
      ],
      "metadata": {
        "id": "dJ0LDQrK_hKY"
      },
      "execution_count": 2,
      "outputs": []
    },
    {
      "cell_type": "code",
      "source": [
        "xtrain=pd.read_table('/content/drive/MyDrive/UCI_HAR_DATASET/train/X_train.txt',delim_whitespace=True,header=None)\n"
      ],
      "metadata": {
        "id": "rpYjifmtATJi"
      },
      "execution_count": 3,
      "outputs": []
    },
    {
      "cell_type": "code",
      "source": [
        "xtest=pd.read_table('/content/drive/MyDrive/UCI_HAR_DATASET/test/X_test.txt',delim_whitespace=True,header=None)\n"
      ],
      "metadata": {
        "id": "AW3El1gZAWA7"
      },
      "execution_count": 4,
      "outputs": []
    },
    {
      "cell_type": "code",
      "source": [
        "ytrain=pd.read_table('/content/drive/MyDrive/UCI_HAR_DATASET/train/y_train.txt',header=None)\n"
      ],
      "metadata": {
        "id": "ajkHdrkLAXY1"
      },
      "execution_count": 5,
      "outputs": []
    },
    {
      "cell_type": "code",
      "source": [
        "ytest=pd.read_table('/content/drive/MyDrive/UCI_HAR_DATASET/test/y_test.txt',header=None)\n"
      ],
      "metadata": {
        "id": "jzIJ8IWqAZSr"
      },
      "execution_count": 6,
      "outputs": []
    },
    {
      "cell_type": "code",
      "source": [
        "xtrain=xtrain.values # array\n",
        "xtest=xtest.values\n",
        "ytrain=ytrain.values\n",
        "ytest=ytest.values"
      ],
      "metadata": {
        "id": "UnJc_eA-AbZn"
      },
      "execution_count": 7,
      "outputs": []
    },
    {
      "cell_type": "code",
      "source": [
        "from sklearn.neighbors import KNeighborsClassifier\n",
        "from sklearn.metrics import accuracy_score"
      ],
      "metadata": {
        "id": "G7a_Qf1mAjNA"
      },
      "execution_count": 8,
      "outputs": []
    },
    {
      "cell_type": "code",
      "source": [
        "knn = KNeighborsClassifier(n_neighbors = 24)"
      ],
      "metadata": {
        "id": "pkV1tBHZAlWW"
      },
      "execution_count": 40,
      "outputs": []
    },
    {
      "cell_type": "code",
      "source": [
        "knn.fit(xtrain,ytrain)\n",
        "ypred = knn.predict(xtest)"
      ],
      "metadata": {
        "colab": {
          "base_uri": "https://localhost:8080/"
        },
        "id": "3dxAVzfkAqAR",
        "outputId": "9bb08279-1852-4cda-c9f0-b02068072227"
      },
      "execution_count": 41,
      "outputs": [
        {
          "output_type": "stream",
          "name": "stderr",
          "text": [
            "/usr/local/lib/python3.10/dist-packages/sklearn/neighbors/_classification.py:215: DataConversionWarning: A column-vector y was passed when a 1d array was expected. Please change the shape of y to (n_samples,), for example using ravel().\n",
            "  return self._fit(X, y)\n"
          ]
        }
      ]
    },
    {
      "cell_type": "code",
      "source": [
        "print(\"{:.2f}%\".format(accuracy_score(ytest, ypred) * 100))\n"
      ],
      "metadata": {
        "colab": {
          "base_uri": "https://localhost:8080/"
        },
        "id": "KgVt8qDCAsy6",
        "outputId": "66d1a4c4-2f19-4ffc-829d-1364c29ddbba"
      },
      "execution_count": 42,
      "outputs": [
        {
          "output_type": "stream",
          "name": "stdout",
          "text": [
            "90.23%\n"
          ]
        }
      ]
    },
    {
      "cell_type": "code",
      "source": [
        "scores = np.array(scores)"
      ],
      "metadata": {
        "id": "2ju8kNWtBrPo"
      },
      "execution_count": 43,
      "outputs": []
    },
    {
      "cell_type": "code",
      "source": [
        "print('Optimal No. Of Neighbors:', scores.argmax() + 1)\n",
        "print('Accuracy Score:', \"{:.2f}%\".format(scores.max() * 100))\n"
      ],
      "metadata": {
        "colab": {
          "base_uri": "https://localhost:8080/"
        },
        "id": "fU18iQdUB5fL",
        "outputId": "3bdfb916-a131-4f72-ae55-879c09980d91"
      },
      "execution_count": 44,
      "outputs": [
        {
          "output_type": "stream",
          "name": "stdout",
          "text": [
            "Optimal No. Of Neighbors: 7\n",
            "Accuracy Score: 90.33%\n"
          ]
        }
      ]
    },
    {
      "cell_type": "code",
      "source": [],
      "metadata": {
        "id": "Le-m-c40ClG5"
      },
      "execution_count": null,
      "outputs": []
    }
  ]
}