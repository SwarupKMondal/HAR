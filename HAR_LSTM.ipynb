{
  "nbformat": 4,
  "nbformat_minor": 0,
  "metadata": {
    "colab": {
      "provenance": [],
      "gpuType": "T4"
    },
    "kernelspec": {
      "name": "python3",
      "display_name": "Python 3"
    },
    "language_info": {
      "name": "python"
    },
    "accelerator": "GPU"
  },
  "cells": [
    {
      "cell_type": "code",
      "execution_count": null,
      "metadata": {
        "id": "BzhL0lQAip-H"
      },
      "outputs": [],
      "source": [
        "\n",
        "# lstm model\n",
        "from numpy import mean\n",
        "from numpy import std\n",
        "from numpy import dstack\n",
        "from pandas import read_csv\n",
        "from keras.models import Sequential\n",
        "from keras.layers import Dense\n",
        "from keras.layers import Flatten\n",
        "from keras.layers import Dropout\n",
        "from keras.layers import LSTM\n",
        "from keras.utils import to_categorical\n",
        "from matplotlib import pyplot\n",
        " "
      ]
    },
    {
      "cell_type": "code",
      "source": [
        "\n",
        "# load a single file as a numpy array\n",
        "def load_file(filepath):\n",
        " dataframe = read_csv(filepath, header=None, delim_whitespace=True)\n",
        " return dataframe.values\n"
      ],
      "metadata": {
        "id": "zgBWbgDwixsa"
      },
      "execution_count": null,
      "outputs": []
    },
    {
      "cell_type": "code",
      "source": [
        "\n",
        "# load a list of files into a 3D array of [samples, timesteps, features]\n",
        "def load_group(filenames, prefix=''):\n",
        " loaded = list()\n",
        " for name in filenames:\n",
        "  data = load_file(prefix + name)\n",
        " loaded.append(data)\n",
        " # stack group so that features are the 3rd dimension\n",
        " loaded = dstack(loaded)\n",
        " return loaded"
      ],
      "metadata": {
        "id": "WigVQLSijGpv"
      },
      "execution_count": null,
      "outputs": []
    },
    {
      "cell_type": "code",
      "source": [
        "from google.colab import drive\n",
        "\n",
        "drive.mount('/content/gdrive/', force_remount=True)"
      ],
      "metadata": {
        "colab": {
          "base_uri": "https://localhost:8080/"
        },
        "id": "LcY0kuKflcdP",
        "outputId": "bfcfb042-61d8-4817-903e-bf3033e84da3"
      },
      "execution_count": null,
      "outputs": [
        {
          "output_type": "stream",
          "name": "stdout",
          "text": [
            "Mounted at /content/gdrive/\n"
          ]
        }
      ]
    },
    {
      "cell_type": "code",
      "source": [
        "def load_dataset_group(group, prefix=''):\n",
        " filepath = prefix + group + '/Inertial Signals/'\n",
        " # load all 9 files as a single array\n",
        " filenames = list()\n",
        " # total acceleration\n",
        " filenames += ['total_acc_x_'+group+'.txt', 'total_acc_y_'+group+'.txt', 'total_acc_z_'+group+'.txt']\n",
        " # body acceleration\n",
        " filenames += ['body_acc_x_'+group+'.txt', 'body_acc_y_'+group+'.txt', 'body_acc_z_'+group+'.txt']\n",
        " # body gyroscope\n",
        " filenames += ['body_gyro_x_'+group+'.txt', 'body_gyro_y_'+group+'.txt', 'body_gyro_z_'+group+'.txt']\n",
        " # load input data\n",
        " X = load_group(filenames, filepath)\n",
        " # load class output\n",
        " y = load_file(prefix + group + '/y_'+group+'.txt')\n",
        " return X, y"
      ],
      "metadata": {
        "id": "2kqZJ_2vjJwX"
      },
      "execution_count": null,
      "outputs": []
    },
    {
      "cell_type": "code",
      "source": [],
      "metadata": {
        "id": "ctnK9F_Jjg7W"
      },
      "execution_count": null,
      "outputs": []
    },
    {
      "cell_type": "code",
      "source": [
        "def load_dataset(prefix='/content/gdrive/MyDrive/UCI_HAR_DATASET/'):\n",
        "    # load all train\n",
        "    trainX, trainy = load_dataset_group('train', prefix)\n",
        "    print(trainX.shape, trainy.shape)\n",
        "    # load all test\n",
        "    testX, testy = load_dataset_group('test', prefix)\n",
        "    print(testX.shape, testy.shape)\n",
        "    # zero-offset class values\n",
        "    trainy = trainy - 1\n",
        "    testy = testy - 1\n",
        "    # one hot encode y\n",
        "    trainy = to_categorical(trainy)\n",
        "    testy = to_categorical(testy)\n",
        "    print(trainX.shape, trainy.shape, testX.shape, testy.shape)\n",
        "    return trainX, trainy, testX, testy\n"
      ],
      "metadata": {
        "id": "UaBFXHW_nZJ-"
      },
      "execution_count": null,
      "outputs": []
    },
    {
      "cell_type": "code",
      "source": [
        "trainX, trainy, testX, testy = load_dataset()"
      ],
      "metadata": {
        "colab": {
          "base_uri": "https://localhost:8080/"
        },
        "id": "Fw4O4dZonhz3",
        "outputId": "e5f1a0da-a0d1-4fa9-f967-a32d44e0f03b"
      },
      "execution_count": null,
      "outputs": [
        {
          "output_type": "stream",
          "name": "stdout",
          "text": [
            "(7352, 128, 1) (7352, 1)\n",
            "(2947, 128, 1) (2947, 1)\n",
            "(7352, 128, 1) (7352, 6) (2947, 128, 1) (2947, 6)\n"
          ]
        }
      ]
    },
    {
      "cell_type": "code",
      "source": [
        "n_timesteps, n_features, n_outputs = trainX.shape[1], trainX.shape[2], trainy.shape[1]"
      ],
      "metadata": {
        "id": "lAfhz8lcjjs7"
      },
      "execution_count": null,
      "outputs": []
    },
    {
      "cell_type": "code",
      "source": [
        "def evaluate_model(trainX, trainy, testX, testy):\n",
        " verbose, epochs, batch_size = 0, 15, 64\n",
        " n_timesteps, n_features, n_outputs = trainX.shape[1], trainX.shape[2], trainy.shape[1]\n",
        " model = Sequential()\n",
        " model.add(LSTM(100, input_shape=(n_timesteps,n_features)))\n",
        " model.add(Dropout(0.5))\n",
        " model.add(Dense(100, activation='relu'))\n",
        " model.add(Dense(n_outputs, activation='softmax'))\n",
        " model.compile(loss='categorical_crossentropy', optimizer='adam', metrics=['accuracy'])\n",
        " # fit network\n",
        " model.fit(trainX, trainy, epochs=epochs, batch_size=batch_size, verbose=verbose)\n",
        " # evaluate model\n",
        " _, accuracy = model.evaluate(testX, testy, batch_size=batch_size, verbose=0)\n",
        " return accuracy"
      ],
      "metadata": {
        "id": "aeXj8_oPnyrc"
      },
      "execution_count": null,
      "outputs": []
    },
    {
      "cell_type": "code",
      "source": [
        "def summarize_results(scores):\n",
        " print(scores)\n",
        " m, s = mean(scores), std(scores)\n",
        " print('Accuracy: %.3f%% (+/-%.3f)' % (m, s))"
      ],
      "metadata": {
        "id": "cZZcYg9aoFU5"
      },
      "execution_count": null,
      "outputs": []
    },
    {
      "cell_type": "code",
      "source": [
        "def run_experiment(repeats=10):\n",
        " # load data\n",
        " trainX, trainy, testX, testy = load_dataset()\n",
        " # repeat experiment\n",
        " scores = list()\n",
        " for r in range(repeats):\n",
        "  score = evaluate_model(trainX, trainy, testX, testy)\n",
        " score = score * 100.0\n",
        " print('>#%d: %.3f' % (r+1, score))\n",
        " scores.append(score)\n",
        " # summarize results\n",
        " summarize_results(scores)"
      ],
      "metadata": {
        "id": "3MAyt9hGoHxu"
      },
      "execution_count": null,
      "outputs": []
    },
    {
      "cell_type": "code",
      "source": [
        "run_experiment()"
      ],
      "metadata": {
        "colab": {
          "base_uri": "https://localhost:8080/"
        },
        "id": "YmzAv-t8oMUr",
        "outputId": "3b864d0e-192c-4089-a099-97662653dc6b"
      },
      "execution_count": null,
      "outputs": [
        {
          "output_type": "stream",
          "name": "stdout",
          "text": [
            "(7352, 128, 1) (7352, 1)\n",
            "(2947, 128, 1) (2947, 1)\n",
            "(7352, 128, 1) (7352, 6) (2947, 128, 1) (2947, 6)\n",
            ">#10: 43.468\n",
            "[43.46793293952942]\n",
            "Accuracy: 43.468% (+/-0.000)\n"
          ]
        }
      ]
    },
    {
      "cell_type": "code",
      "source": [],
      "metadata": {
        "id": "sm2foBw6oU1V"
      },
      "execution_count": null,
      "outputs": []
    }
  ]
}